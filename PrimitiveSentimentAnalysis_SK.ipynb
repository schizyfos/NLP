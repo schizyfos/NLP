{
  "nbformat": 4,
  "nbformat_minor": 0,
  "metadata": {
    "colab": {
      "name": "PrimitiveSentimentAnalysis_SK.ipynb",
      "provenance": [],
      "collapsed_sections": [],
      "authorship_tag": "ABX9TyNEOZ8lnqoELpllVt599X9f",
      "include_colab_link": true
    },
    "kernelspec": {
      "name": "python3",
      "display_name": "Python 3"
    },
    "language_info": {
      "name": "python"
    }
  },
  "cells": [
    {
      "cell_type": "markdown",
      "metadata": {
        "id": "view-in-github",
        "colab_type": "text"
      },
      "source": [
        "<a href=\"https://colab.research.google.com/github/schizyfos/NLP/blob/master/PrimitiveSentimentAnalysis_SK.ipynb\" target=\"_parent\"><img src=\"https://colab.research.google.com/assets/colab-badge.svg\" alt=\"Open In Colab\"/></a>"
      ]
    },
    {
      "cell_type": "code",
      "metadata": {
        "id": "IR0tEP5OnX7g"
      },
      "source": [
        "# Creating the trivial sentiment analysis simply from the list of positive and negative words\n",
        "# To be as quick as possible, I am going to do it in numpy. Therefore I import the numpy library\n",
        "import numpy as np\n",
        "import string\n",
        "import os\n",
        "# TO PLAY, RUNTIME/RUN ALL"
      ],
      "execution_count": 98,
      "outputs": []
    },
    {
      "cell_type": "code",
      "metadata": {
        "colab": {
          "base_uri": "https://localhost:8080/",
          "height": 69
        },
        "id": "K784hZWanzSl",
        "outputId": "79154a27-1d15-4bf5-8e30-2a0054e7def2"
      },
      "source": [
        "\"\"\"\n",
        "DOWNLOAD FROM KAGGLE NOT SUCCESSFULL, TO BE SKIPPED\n",
        "!wget --no-check-certificate \\\n",
        "  https://www.kaggle.com/rtatman/sentiment-lexicons-for-81-languages/download/archive.zip \\\n",
        "  -O //content/sample_data/archive.zip\n",
        "  \"\"\"\n",
        "\n",
        "  "
      ],
      "execution_count": 99,
      "outputs": [
        {
          "output_type": "execute_result",
          "data": {
            "application/vnd.google.colaboratory.intrinsic+json": {
              "type": "string"
            },
            "text/plain": [
              "'\\nDOWNLOAD FROM KAGGLE NOT SUCCESSFULL, TO BE SKIPPED\\n!wget --no-check-certificate   https://www.kaggle.com/rtatman/sentiment-lexicons-for-81-languages/download/archive.zip   -O //content/sample_data/archive.zip\\n  '"
            ]
          },
          "metadata": {
            "tags": []
          },
          "execution_count": 99
        }
      ]
    },
    {
      "cell_type": "code",
      "metadata": {
        "id": "-16Yf4l3yYSB"
      },
      "source": [
        ""
      ],
      "execution_count": 99,
      "outputs": []
    },
    {
      "cell_type": "code",
      "metadata": {
        "colab": {
          "base_uri": "https://localhost:8080/",
          "height": 52
        },
        "id": "RdQi2h1WwDJk",
        "outputId": "830149dd-221c-4649-92fe-da59f96a2ce0"
      },
      "source": [
        "\"\"\" WORKED FINE, TO BE SKIPPED\n",
        "from google.colab import drive\n",
        "drive.mount('/content/gdrive')\n",
        "!cp /content/gdrive/MyDrive/archive.zip /content/sample_data/archive.zip\n",
        "\"\"\"\n"
      ],
      "execution_count": 100,
      "outputs": [
        {
          "output_type": "execute_result",
          "data": {
            "application/vnd.google.colaboratory.intrinsic+json": {
              "type": "string"
            },
            "text/plain": [
              "\" WORKED FINE, TO BE SKIPPED\\nfrom google.colab import drive\\ndrive.mount('/content/gdrive')\\n!cp /content/gdrive/MyDrive/archive.zip /content/sample_data/archive.zip\\n\""
            ]
          },
          "metadata": {
            "tags": []
          },
          "execution_count": 100
        }
      ]
    },
    {
      "cell_type": "code",
      "metadata": {
        "id": "z6Vepn2uq_H2",
        "colab": {
          "base_uri": "https://localhost:8080/",
          "height": 35
        },
        "outputId": "dfca01b7-7510-446a-e25f-1d2dba439bba"
      },
      "source": [
        "\"\"\" SUCCESSFULL UNZIP, TO BE SKIPPED\n",
        "!unzip -q archive.zip\n",
        "\"\"\""
      ],
      "execution_count": 101,
      "outputs": [
        {
          "output_type": "execute_result",
          "data": {
            "application/vnd.google.colaboratory.intrinsic+json": {
              "type": "string"
            },
            "text/plain": [
              "' SUCCESSFULL UNZIP, TO BE SKIPPED\\n!unzip -q archive.zip\\n'"
            ]
          },
          "metadata": {
            "tags": []
          },
          "execution_count": 101
        }
      ]
    },
    {
      "cell_type": "code",
      "metadata": {
        "id": "ZSnb_a1l1ZGH",
        "colab": {
          "base_uri": "https://localhost:8080/",
          "height": 35
        },
        "outputId": "1644e505-de0c-4528-ac8b-06d3c049f78b"
      },
      "source": [
        "\"\"\" PROVEMENT OF SUCCESS, TO BE SKIPPED\n",
        "!ls -l\n",
        "\"\"\""
      ],
      "execution_count": 102,
      "outputs": [
        {
          "output_type": "execute_result",
          "data": {
            "application/vnd.google.colaboratory.intrinsic+json": {
              "type": "string"
            },
            "text/plain": [
              "' PROVEMENT OF SUCCESS, TO BE SKIPPED\\n!ls -l\\n'"
            ]
          },
          "metadata": {
            "tags": []
          },
          "execution_count": 102
        }
      ]
    },
    {
      "cell_type": "code",
      "metadata": {
        "id": "ZWvYBf6y16IW",
        "colab": {
          "base_uri": "https://localhost:8080/"
        },
        "outputId": "c2c05851-1bb6-47bc-e202-5658ad6c85b6"
      },
      "source": [
        "# opening the slovak posit/negat words files\n",
        "# I have set the working directory directly to the lexicon files\n",
        "os.chdir('/content/sample_data/sentiment-lexicons')\n",
        "print(os.getcwd())\n",
        "pozitSlova = open(\"positive_words_sk.txt\", \"r\")\n",
        "negatSlova = open(\"negative_words_sk.txt\", \"r\")\n",
        "# transforming them into the lists\n",
        "zozPozit=pozitSlova.read().split('\\n')\n",
        "zozNegat=negatSlova.read().split('\\n')\n",
        "\n",
        "# transforming the lists into numpys\n",
        "numPozit=np.array(zozPozit)\n",
        "numNegat=np.array(zozNegat)\n",
        "\n",
        "#check if all is ok printing the random word indexex and index numbers\n",
        "print(numPozit)\n",
        "print(numNegat)\n",
        "numPozitIndex = np.where(numPozit == 'hravo')\n",
        "print(numPozitIndex)\n",
        "numNegatIndex = np.where(numNegat == 'priemerný')\n",
        "print(numNegatIndex)"
      ],
      "execution_count": 103,
      "outputs": [
        {
          "output_type": "stream",
          "text": [
            "/content/sample_data/sentiment-lexicons\n",
            "['right' 'ako' 'má' ... 'lead' 'hravo' '']\n",
            "['o' 'položený' 'priemerný' ... 'kontraproduktívne' 'hroziť' '']\n",
            "(array([1031]),)\n",
            "(array([2]),)\n"
          ],
          "name": "stdout"
        }
      ]
    },
    {
      "cell_type": "code",
      "metadata": {
        "id": "ZzIfJQVS2EXz"
      },
      "source": [
        "# Change the working directory\n",
        "os.chdir('/content/sample_data/sentiment-lexicons/')"
      ],
      "execution_count": 104,
      "outputs": []
    },
    {
      "cell_type": "code",
      "metadata": {
        "id": "aFG3zd5S2tOu",
        "colab": {
          "base_uri": "https://localhost:8080/"
        },
        "outputId": "2951ea90-cfc7-485c-e24a-e55017b0be26"
      },
      "source": [
        "# opening the slovak posit/negat words files\n",
        "pozitSlova = open(\"positive_words_sk.txt\", \"r\")\n",
        "negatSlova = open(\"negative_words_sk.txt\", \"r\")\n",
        "\n",
        "# transforming them into the lists\n",
        "zozPozit=pozitSlova.read().split('\\n')\n",
        "zozNegat=negatSlova.read().split('\\n')\n",
        "\n",
        "# transforming the lists into numpys\n",
        "numPozit=np.array(zozPozit)\n",
        "numNegat=np.array(zozNegat)\n",
        "\n",
        "#check if all is ok printing the random word indexes and index numbers\n",
        "print(numPozit)\n",
        "print(numNegat)\n",
        "numPozitIndex = np.where(numPozit == 'hravo')\n",
        "print(numPozitIndex)\n",
        "numNegatIndex = np.where(numNegat == 'priemerný')\n",
        "print(numNegatIndex)"
      ],
      "execution_count": 105,
      "outputs": [
        {
          "output_type": "stream",
          "text": [
            "['right' 'ako' 'má' ... 'lead' 'hravo' '']\n",
            "['o' 'položený' 'priemerný' ... 'kontraproduktívne' 'hroziť' '']\n",
            "(array([1031]),)\n",
            "(array([2]),)\n"
          ],
          "name": "stdout"
        }
      ]
    },
    {
      "cell_type": "code",
      "metadata": {
        "id": "hc-k7JQb28Gi",
        "colab": {
          "base_uri": "https://localhost:8080/"
        },
        "outputId": "191b11b4-99d8-464f-8c82-bc2f851d0fd5"
      },
      "source": [
        "#sentence from a user\n",
        "veta = input(\"Please enter your sentence and then \\ncheck my opinion. If it pops up, scroll all \\nthe way \\ndown to find my rating : \")\n",
        "\n",
        "#sentence split to words\n",
        "slovaVety = veta.split()\n",
        "\n",
        "#check if all is ok printing the splitted words of a sentence\n",
        "# print(slovaVety)\n",
        "i=0\n",
        "j=0\n",
        "for item in slovaVety:\n",
        "# print(item)\n",
        "  if item in numPozit:\n",
        "    i += 1\n",
        "  if item in numNegat:\n",
        "    j += 1\n",
        "if i > 0 and j > 0:\n",
        "    print('inconsistent sentiment')\n",
        "if i > 0 and j == 0:\n",
        "    print('positive sentiment')\n",
        "if i == 0 and j > 0:\n",
        "    print('negative sentiment')\n",
        "if i == 0 and j == 0:\n",
        "    print(\"I don't know\")\n",
        "# print(i)\n",
        "# print(j)"
      ],
      "execution_count": 107,
      "outputs": [
        {
          "output_type": "stream",
          "text": [
            "Please enter your sentence and then \n",
            "check my opinion. If it pops up, scroll all \n",
            "the way \n",
            "down to find my rating : lepšie ako dobre\n",
            "positive sentiment\n"
          ],
          "name": "stdout"
        }
      ]
    }
  ]
}